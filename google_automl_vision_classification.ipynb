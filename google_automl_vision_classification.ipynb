{
 "cells": [
  {
   "cell_type": "markdown",
   "metadata": {},
   "source": [
    "https://cloud.google.com/vision/automl/docs"
   ]
  },
  {
   "cell_type": "markdown",
   "metadata": {},
   "source": [
    "!sudo pip3 install google-cloud-automl"
   ]
  },
  {
   "cell_type": "markdown",
   "metadata": {},
   "source": [
    "1. CREATING DATASET\n",
    "2. Import data items into the dataset\n",
    "3. Label the items"
   ]
  },
  {
   "cell_type": "code",
   "execution_count": null,
   "metadata": {},
   "outputs": [],
   "source": [
    "import os\n",
    "from google.cloud import automl"
   ]
  },
  {
   "cell_type": "code",
   "execution_count": null,
   "metadata": {},
   "outputs": [],
   "source": [
    "!gsutil cat -r 0-500 'gs://flr_cls/csv/all_data.csv' "
   ]
  },
  {
   "cell_type": "code",
   "execution_count": null,
   "metadata": {},
   "outputs": [],
   "source": [
    "####################\n",
    "## Initialize Variables\n",
    "os.environ['GOOGLE_APPLICATION_CREDENTIALS'] = \"sa-neophilex-automl-admin.json\"\n",
    "project_id = \"neophilex-alpha\"\n",
    "dataset_id = 'ICN5335346088922578944'  ## this will keep changing everytime you create a new one\n",
    "dataset_name = 'flower_classification'\n",
    "csv_path = 'gs://flr_cls/csv/all_data.csv'  ## please check the name of bucket\n",
    "model_id = 'ICN2194557039319973888'   ## this will keep changing everytime you create a new one\n",
    "model_display_name = 'flr_cls_m1_v1'\n",
    "file_path = '01_input/flowers/roses-001.jpg'  ## location of the image you want to predict\n",
    "\n",
    "\n",
    "\n",
    "client = automl.AutoMlClient()      ## if GOOGLE_APPLICATION_CREDENTIALS is not defined then you will have to use from file\n",
    "\n",
    "project_location = client.location_path(project_id, \"us-central1\")"
   ]
  },
  {
   "cell_type": "markdown",
   "metadata": {},
   "source": [
    "## list datasets"
   ]
  },
  {
   "cell_type": "markdown",
   "metadata": {},
   "source": [
    "https://pyformat.info/"
   ]
  },
  {
   "cell_type": "code",
   "execution_count": null,
   "metadata": {},
   "outputs": [],
   "source": [
    "for dataset in client.list_datasets(project_location):\n",
    "    print(\"{:<25}  \\t {:<25}\".format(dataset.display_name, dataset.name))"
   ]
  },
  {
   "cell_type": "markdown",
   "metadata": {},
   "source": [
    "## Create DATASET"
   ]
  },
  {
   "cell_type": "code",
   "execution_count": null,
   "metadata": {},
   "outputs": [],
   "source": [
    "# Specify the classification type\n",
    "# Types:\n",
    "# MultiLabel: Multiple labels are allowed for one example.\n",
    "# MultiClass: At most one label is allowed per example.\n",
    "# https://cloud.google.com/automl/docs/reference/rpc/google.cloud.automl.v1#classificationtype\n",
    "metadata = automl.types.ImageClassificationDatasetMetadata(\n",
    "    classification_type=automl.enums.ClassificationType.MULTILABEL\n",
    ")\n",
    "\n",
    "dataset = automl.types.Dataset(\n",
    "    display_name=dataset_name,\n",
    "    image_classification_dataset_metadata=metadata,\n",
    ")\n",
    "\n",
    "# Create a dataset with the dataset metadata in the region.\n",
    "response = client.create_dataset(project_location, dataset)\n",
    "\n",
    "created_dataset = response.result()\n",
    "\n",
    "# Display the dataset information\n",
    "print(\"Dataset name: {}\".format(created_dataset.name))\n",
    "print(\"Dataset id: {}\".format(created_dataset.name.split(\"/\")[-1]))"
   ]
  },
  {
   "cell_type": "markdown",
   "metadata": {},
   "source": [
    "## Importing items into a dataset"
   ]
  },
  {
   "cell_type": "code",
   "execution_count": null,
   "metadata": {},
   "outputs": [],
   "source": [
    "# Get the full path of the dataset.\n",
    "dataset_full_id = client.dataset_path(project_id, \"us-central1\", dataset_id)\n",
    "\n",
    "# Get the multiple Google Cloud Storage URIs\n",
    "input_uris = csv_path.split(\",\")\n",
    "print(input_uris)\n",
    "input()\n",
    "gcs_source = automl.types.GcsSource(input_uris=input_uris)\n",
    "input_config = automl.types.InputConfig(gcs_source=gcs_source)\n",
    "\n",
    "print(input_config)\n",
    "input()\n",
    "\n",
    "# Import data from the input URI\n",
    "response = client.import_data(dataset_full_id, input_config)\n",
    "\n",
    "print(\"Processing import...\")\n",
    "print(\"Data imported. {}\".format(response.result()))"
   ]
  },
  {
   "cell_type": "markdown",
   "metadata": {},
   "source": [
    "## Create a model"
   ]
  },
  {
   "cell_type": "code",
   "execution_count": null,
   "metadata": {},
   "outputs": [],
   "source": [
    "# Leave model unset to use the default base model provided by Google\n",
    "# train_budget_milli_node_hours: The actual train_cost will be equal or\n",
    "# less than this value.\n",
    "# https://cloud.google.com/automl/docs/reference/rpc/google.cloud.automl.v1#imageclassificationmodelmetadata\n",
    "metadata = automl.types.ImageClassificationModelMetadata(train_budget_milli_node_hours=8000)\n",
    "\n",
    "model = automl.types.Model(\n",
    "    display_name=model_display_name,\n",
    "    dataset_id=dataset_id,\n",
    "    image_classification_model_metadata=metadata,\n",
    ")\n",
    "\n",
    "# Create a model with the model metadata in the region.\n",
    "response = client.create_model(project_location, model)\n",
    "\n",
    "print(\"Training operation name: {}\".format(response.operation.name))\n",
    "print(\"Training started...\")"
   ]
  },
  {
   "cell_type": "markdown",
   "metadata": {},
   "source": [
    "## list operations"
   ]
  },
  {
   "cell_type": "code",
   "execution_count": null,
   "metadata": {
    "scrolled": true
   },
   "outputs": [],
   "source": [
    "response = client.transport._operations_client.list_operations(project_location, \"\")\n",
    "\n",
    "print(\"List of operations:\")\n",
    "for operation in response:\n",
    "    print(\"Name: {}\".format(operation.name))\n",
    "    print(\"Operation details:\")\n",
    "    print(operation)"
   ]
  },
  {
   "cell_type": "markdown",
   "metadata": {},
   "source": [
    "## Getting the status of an operation"
   ]
  },
  {
   "cell_type": "code",
   "execution_count": null,
   "metadata": {},
   "outputs": [],
   "source": [
    "# TODO(developer): Uncomment and set the following variables\n",
    "# operation_full_id = \\\n",
    "#     \"projects/[projectId]/locations/us-central1/operations/[operationId]\"\n",
    "\n",
    "response = client.transport._operations_client.get_operation(\n",
    "    'projects/740070380126/locations/us-central1/operations/IOD4430860885879160832'\n",
    ")\n",
    "\n",
    "print(\"Name: {}\".format(response.name))\n",
    "print(\"Operation details:\")\n",
    "print(response)"
   ]
  },
  {
   "cell_type": "markdown",
   "metadata": {},
   "source": [
    "## list models"
   ]
  },
  {
   "cell_type": "code",
   "execution_count": null,
   "metadata": {},
   "outputs": [],
   "source": [
    "for model in client.list_models(project_location):\n",
    "    print(\"{:25} {:75} {:1}\".format(model.display_name, model.name, model.deployment_state))"
   ]
  },
  {
   "cell_type": "code",
   "execution_count": null,
   "metadata": {},
   "outputs": [],
   "source": [
    "##choose the correct model for further processing\n",
    "model_id = '<assign the id>'"
   ]
  },
  {
   "cell_type": "markdown",
   "metadata": {},
   "source": [
    "## Getting information about a model"
   ]
  },
  {
   "cell_type": "code",
   "execution_count": null,
   "metadata": {},
   "outputs": [],
   "source": [
    "model_id = \"ICN2194557039319973888\"\n",
    "\n",
    "# Get the full path of the model.\n",
    "model_full_id = client.model_path(project_id, \"us-central1\", model_id)\n",
    "model = client.get_model(model_full_id)\n",
    "\n",
    "# Retrieve deployment state.\n",
    "if model.deployment_state == automl.enums.Model.DeploymentState.DEPLOYED:\n",
    "    deployment_state = \"deployed\"\n",
    "else:\n",
    "    deployment_state = \"undeployed\"\n",
    "\n",
    "# Display the model information.\n",
    "print(\"Model name: {}\".format(model.name))\n",
    "print(\"Model id: {}\".format(model.name.split(\"/\")[-1]))\n",
    "print(\"Model display name: {}\".format(model.display_name))\n",
    "print(\"Model create time:\")\n",
    "print(\"\\tseconds: {}\".format(model.create_time.seconds))\n",
    "print(\"\\tnanos: {}\".format(model.create_time.nanos))\n",
    "print(\"Model deployment state: {}\".format(deployment_state))"
   ]
  },
  {
   "cell_type": "markdown",
   "metadata": {},
   "source": [
    "## Deploy Model"
   ]
  },
  {
   "cell_type": "code",
   "execution_count": null,
   "metadata": {},
   "outputs": [],
   "source": [
    "# Get the full path of the model.\n",
    "model_full_id = client.model_path(project_id, \"us-central1\", model_id)\n",
    "response = client.deploy_model(model_full_id)\n",
    "\n",
    "print(\"Model deployment finished. {}\".format(response.result()))"
   ]
  },
  {
   "cell_type": "markdown",
   "metadata": {},
   "source": [
    "## Update a model's node number"
   ]
  },
  {
   "cell_type": "code",
   "execution_count": null,
   "metadata": {},
   "outputs": [],
   "source": [
    "from google.cloud import automl\n",
    "\n",
    "# TODO(developer): Uncomment and set the following variables\n",
    "# project_id = \"YOUR_PROJECT_ID\"\n",
    "# model_id = \"YOUR_MODEL_ID\"\n",
    "\n",
    "client = automl.AutoMlClient()\n",
    "# Get the full path of the model.\n",
    "model_full_id = client.model_path(project_id, \"us-central1\", model_id)\n",
    "\n",
    "# node count determines the number of nodes to deploy the model on.\n",
    "# https://cloud.google.com/automl/docs/reference/rpc/google.cloud.automl.v1#imageclassificationmodeldeploymentmetadata\n",
    "metadata = automl.types.ImageClassificationModelDeploymentMetadata(\n",
    "    node_count=2\n",
    ")\n",
    "response = client.deploy_model(\n",
    "    model_full_id, image_classification_model_deployment_metadata=metadata\n",
    ")\n",
    "\n",
    "print(\"Model deployment finished. {}\".format(response.result()))"
   ]
  },
  {
   "cell_type": "markdown",
   "metadata": {},
   "source": [
    "## Online (individual) prediction"
   ]
  },
  {
   "cell_type": "code",
   "execution_count": null,
   "metadata": {},
   "outputs": [],
   "source": [
    "from google.cloud import automl\n",
    "\n",
    "# TODO(developer): Uncomment and set the following variables\n",
    "project_id = \"neophilex-alpha\"\n",
    "model_id = \"ICN2194557039319973888\"\n",
    "file_path = \"01_input/flowers/roses-001.jpg\"\n",
    "\n",
    "prediction_client = automl.PredictionServiceClient()\n",
    "\n",
    "# Get the full path of the model.\n",
    "model_full_id = prediction_client.model_path(project_id, \"us-central1\", model_id)\n",
    "\n",
    "# Read the file.\n",
    "with open(file_path, \"rb\") as content_file:\n",
    "    content = content_file.read()\n",
    "\n",
    "image = automl.types.Image(image_bytes=content)\n",
    "payload = automl.types.ExamplePayload(image=image)\n",
    "\n",
    "# params is additional domain-specific parameters.\n",
    "# score_threshold is used to filter the result\n",
    "# https://cloud.google.com/automl/docs/reference/rpc/google.cloud.automl.v1#predictrequest\n",
    "params = {\"score_threshold\": \"0.8\"}\n",
    "\n",
    "response = prediction_client.predict(model_full_id, payload, params)\n",
    "print(\"Prediction results:\")\n",
    "for result in response.payload:\n",
    "    print(\"Predicted class name: {}\".format(result.display_name))\n",
    "    print(\"Predicted class score: {}\".format(result.classification.score))"
   ]
  },
  {
   "cell_type": "markdown",
   "metadata": {},
   "source": [
    "## Undeploy Model"
   ]
  },
  {
   "cell_type": "code",
   "execution_count": null,
   "metadata": {},
   "outputs": [],
   "source": [
    "response = client.undeploy_model(model_full_id)\n",
    "print(\"Model undeployment finished. {}\".format(response.result()))"
   ]
  },
  {
   "cell_type": "code",
   "execution_count": null,
   "metadata": {},
   "outputs": [],
   "source": []
  }
 ],
 "metadata": {
  "kernelspec": {
   "display_name": "Python 3",
   "language": "python",
   "name": "python3"
  },
  "language_info": {
   "codemirror_mode": {
    "name": "ipython",
    "version": 3
   },
   "file_extension": ".py",
   "mimetype": "text/x-python",
   "name": "python",
   "nbconvert_exporter": "python",
   "pygments_lexer": "ipython3",
   "version": "3.7.3"
  }
 },
 "nbformat": 4,
 "nbformat_minor": 4
}
