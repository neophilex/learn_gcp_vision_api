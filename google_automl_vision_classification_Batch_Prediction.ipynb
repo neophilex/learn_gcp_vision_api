{
 "cells": [
  {
   "cell_type": "code",
   "execution_count": null,
   "metadata": {},
   "outputs": [],
   "source": [
    "import os\n",
    "from google.cloud import automl"
   ]
  },
  {
   "cell_type": "code",
   "execution_count": null,
   "metadata": {},
   "outputs": [],
   "source": [
    "os.environ['GOOGLE_APPLICATION_CREDENTIALS'] = \"sa-neophilex-automl-admin.json\"\n",
    "project_id = \"neophilex-alpha\"\n",
    "model_id = 'pick up the one from list models'"
   ]
  },
  {
   "cell_type": "code",
   "execution_count": null,
   "metadata": {},
   "outputs": [],
   "source": [
    "# Lists all the files in predict folder and writes in csv file. \n",
    "#deletes first line in the file\n",
    "!gsutil ls 'gs://flr_cls/predict/' > \"predict.csv\"\n",
    "!sed -i -e \"1d\" predict.csv\n",
    "!cat predict.csv"
   ]
  },
  {
   "cell_type": "code",
   "execution_count": null,
   "metadata": {},
   "outputs": [],
   "source": [
    "!gsutil cp predict.csv \"gs://flr_cls/csv/\""
   ]
  },
  {
   "cell_type": "code",
   "execution_count": null,
   "metadata": {},
   "outputs": [],
   "source": [
    "input_uri = \"gs://flr_cls/csv/predict.csv\"\n",
    "output_uri = \"gs://flr_cls/csv/batch_predict_results.csv\""
   ]
  },
  {
   "cell_type": "code",
   "execution_count": null,
   "metadata": {},
   "outputs": [],
   "source": [
    "prediction_client = automl.PredictionServiceClient()\n",
    "\n",
    "# Get the full path of the model.\n",
    "model_full_id = prediction_client.model_path(project_id, \"us-central1\", model_id)\n",
    "gcs_source = automl.types.GcsSource(input_uris=[input_uri])\n",
    "\n",
    "input_config = automl.types.BatchPredictInputConfig(gcs_source=gcs_source)\n",
    "gcs_destination = automl.types.GcsDestination(output_uri_prefix=output_uri)\n",
    "output_config = automl.types.BatchPredictOutputConfig(gcs_destination=gcs_destination)\n",
    "\n",
    "response = prediction_client.batch_predict(model_full_id, input_config, output_config)"
   ]
  },
  {
   "cell_type": "markdown",
   "metadata": {},
   "source": [
    "Note: You can use your model to make batch predictions even if your model is not deployed."
   ]
  },
  {
   "cell_type": "code",
   "execution_count": null,
   "metadata": {},
   "outputs": [],
   "source": [
    "print(\"Waiting for operation to complete...\")\n",
    "print(\"Batch Prediction results saved to Cloud Storage bucket. {}\".format(response.result()))"
   ]
  }
 ],
 "metadata": {
  "kernelspec": {
   "display_name": "Python 3",
   "language": "python",
   "name": "python3"
  },
  "language_info": {
   "codemirror_mode": {
    "name": "ipython",
    "version": 3
   },
   "file_extension": ".py",
   "mimetype": "text/x-python",
   "name": "python",
   "nbconvert_exporter": "python",
   "pygments_lexer": "ipython3",
   "version": "3.7.3"
  }
 },
 "nbformat": 4,
 "nbformat_minor": 4
}
