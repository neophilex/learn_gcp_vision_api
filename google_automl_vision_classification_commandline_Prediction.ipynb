{
 "cells": [
  {
   "cell_type": "code",
   "execution_count": 4,
   "metadata": {},
   "outputs": [
    {
     "name": "stdout",
     "output_type": "stream",
     "text": [
      "Overwriting predict.py\n"
     ]
    }
   ],
   "source": [
    "%%writefile predict.py\n",
    "import sys\n",
    "import os \n",
    "\n",
    "os.environ['GOOGLE_APPLICATION_CREDENTIALS'] = '/home/neophilex/.ssh/sa-neophilex-alpha-owner.json'\n",
    "from google.cloud import automl\n",
    "from google.cloud.automl_v1beta1.proto import service_pb2\n",
    "\n",
    "\n",
    "# 'content' is base-64-encoded image data.\n",
    "def get_prediction(content, project_id, model_id):\n",
    "  prediction_client = automl.PredictionServiceClient()\n",
    "\n",
    "  name = 'projects/{}/locations/us-central1/models/{}'.format(project_id, model_id)\n",
    "  payload = {'image': {'image_bytes': content }}\n",
    "  params = {}\n",
    "  request = prediction_client.predict(name, payload, params)\n",
    "  return request  # waits till request is returned\n",
    "\n",
    "if __name__ == '__main__':\n",
    "  file_path = sys.argv[1]\n",
    "  project_id = sys.argv[2]\n",
    "  model_id = sys.argv[3]\n",
    "\n",
    "  with open(file_path, 'rb') as ff:\n",
    "    content = ff.read()\n",
    "\n",
    "  print(get_prediction(content, project_id, model_id))"
   ]
  },
  {
   "cell_type": "code",
   "execution_count": 9,
   "metadata": {},
   "outputs": [
    {
     "name": "stdout",
     "output_type": "stream",
     "text": [
      "\n"
     ]
    }
   ],
   "source": [
    "'''\n",
    "Use your custom model\n",
    "You can now run predictions on images using your custom vision model. You will need a service account.\n",
    "\n",
    "request.json\n",
    "{\n",
    "  \"payload\": {\n",
    "    \"image\": {\n",
    "      \"imageBytes\": \"YOUR_BASE64_ENCODED_IMAGE_BYTES\"\n",
    "    }\n",
    "  }\n",
    "}\n",
    "Execute the request\n",
    "$\n",
    "curl -X POST -H \"Content-Type: application/json\" \\\n",
    "  -H \"Authorization: Bearer $(gcloud auth application-default print-access-token)\" \\\n",
    "  https://automl.googleapis.com/v1beta1/projects/740070380126/locations/us-central1/models/<pick up the one from list models>:predict \\\n",
    "  -d @request.json\n",
    "  \n",
    "'''\n",
    "\n",
    "print('')"
   ]
  },
  {
   "cell_type": "code",
   "execution_count": null,
   "metadata": {},
   "outputs": [],
   "source": []
  }
 ],
 "metadata": {
  "kernelspec": {
   "display_name": "Python 3",
   "language": "python",
   "name": "python3"
  },
  "language_info": {
   "codemirror_mode": {
    "name": "ipython",
    "version": 3
   },
   "file_extension": ".py",
   "mimetype": "text/x-python",
   "name": "python",
   "nbconvert_exporter": "python",
   "pygments_lexer": "ipython3",
   "version": "3.8.5"
  }
 },
 "nbformat": 4,
 "nbformat_minor": 4
}
