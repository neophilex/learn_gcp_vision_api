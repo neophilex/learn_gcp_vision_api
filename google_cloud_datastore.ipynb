{
 "cells": [
  {
   "cell_type": "markdown",
   "metadata": {},
   "source": [
    "## https://cloud.google.com/datastore/docs"
   ]
  },
  {
   "cell_type": "code",
   "execution_count": null,
   "metadata": {},
   "outputs": [],
   "source": [
    "# Imports the Google Cloud client library\n",
    "from google.cloud import datastore\n",
    "import os\n",
    "import uuid\n",
    "\n",
    "\n",
    "# Instantiates a client\n",
    "os.environ['GOOGLE_APPLICATION_CREDENTIALS'] = \"sa-neophilex-alpha-owner.json\"\n",
    "datastore_client = datastore.Client(project='neophilex-alpha',namespace='neophilex-namespace')"
   ]
  },
  {
   "cell_type": "code",
   "execution_count": null,
   "metadata": {},
   "outputs": [],
   "source": [
    "def insert_into_datastore(datastore_client,kind,key,entity):\n",
    "    from google.cloud import datastore\n",
    "    ds_entity = datastore.Entity(key=datastore_client.key(kind,key))\n",
    "    for key in entity:\n",
    "        ds_entity[key] = entity[key]\n",
    "    \n",
    "    datastore_client.put(ds_entity)"
   ]
  },
  {
   "cell_type": "code",
   "execution_count": null,
   "metadata": {},
   "outputs": [],
   "source": [
    "student_details = {}\n",
    "student_details['student_name'] = 'name'\n",
    "student_details['student_number'] = 'school_number'\n",
    "student_details['school_name'] = 'school_name'\n",
    "student_details['key'] = str(uuid.uuid4())"
   ]
  },
  {
   "cell_type": "code",
   "execution_count": null,
   "metadata": {},
   "outputs": [],
   "source": [
    "insert_into_datastore(datastore_client,kind='student_details',\n",
    "                      key=student_details['key'],\n",
    "                      entity=student_details)"
   ]
  },
  {
   "cell_type": "code",
   "execution_count": null,
   "metadata": {},
   "outputs": [],
   "source": [
    "query = datastore_client.query(kind='student_details')"
   ]
  },
  {
   "cell_type": "code",
   "execution_count": null,
   "metadata": {},
   "outputs": [],
   "source": [
    "query.add_filter('school','=','sainik school satara')"
   ]
  },
  {
   "cell_type": "code",
   "execution_count": null,
   "metadata": {},
   "outputs": [],
   "source": [
    "for i in query.fetch():\n",
    "    print(i['student_name'])"
   ]
  },
  {
   "cell_type": "code",
   "execution_count": null,
   "metadata": {},
   "outputs": [],
   "source": []
  }
 ],
 "metadata": {
  "kernelspec": {
   "display_name": "Python 3",
   "language": "python",
   "name": "python3"
  },
  "language_info": {
   "codemirror_mode": {
    "name": "ipython",
    "version": 3
   },
   "file_extension": ".py",
   "mimetype": "text/x-python",
   "name": "python",
   "nbconvert_exporter": "python",
   "pygments_lexer": "ipython3",
   "version": "3.7.3"
  }
 },
 "nbformat": 4,
 "nbformat_minor": 4
}
