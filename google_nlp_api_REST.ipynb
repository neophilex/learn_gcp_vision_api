{
 "cells": [
  {
   "cell_type": "markdown",
   "metadata": {},
   "source": [
    "https://cloud.google.com/natural-language/docs/reference/rest"
   ]
  },
  {
   "cell_type": "code",
   "execution_count": null,
   "metadata": {},
   "outputs": [],
   "source": [
    "import requests\n",
    "\n",
    "url = 'https://language.googleapis.com/v1/documents:analyzeEntities'\n",
    "\n",
    "json = {\n",
    "    'document':{\n",
    "        'type':'PLAIN_TEXT',\n",
    "        'content':'Michelangelo Caravaggio, Italian painter, is known for The Calling of Saint Matthew.'\n",
    "    },\n",
    "    'encodingType':'UTF8'\n",
    "}\n",
    "\n",
    "\n",
    "auth = ! echo $(gcloud auth application-default print-access-token)\n",
    "header = {\n",
    "    'Content-Type': 'application/json; charset=utf-8',\n",
    "    'Authorization': 'Bearer ' + auth[0]\n",
    "}"
   ]
  },
  {
   "cell_type": "code",
   "execution_count": null,
   "metadata": {},
   "outputs": [],
   "source": [
    "response = requests.post(url=url,json=json,headers=header)"
   ]
  },
  {
   "cell_type": "code",
   "execution_count": null,
   "metadata": {},
   "outputs": [],
   "source": [
    "print(response.text)"
   ]
  },
  {
   "cell_type": "code",
   "execution_count": null,
   "metadata": {},
   "outputs": [],
   "source": []
  }
 ],
 "metadata": {
  "kernelspec": {
   "display_name": "Python 3",
   "language": "python",
   "name": "python3"
  },
  "language_info": {
   "codemirror_mode": {
    "name": "ipython",
    "version": 3
   },
   "file_extension": ".py",
   "mimetype": "text/x-python",
   "name": "python",
   "nbconvert_exporter": "python",
   "pygments_lexer": "ipython3",
   "version": "3.7.3"
  }
 },
 "nbformat": 4,
 "nbformat_minor": 4
}
