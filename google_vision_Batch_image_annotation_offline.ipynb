{
 "cells": [
  {
   "cell_type": "markdown",
   "metadata": {},
   "source": [
    "https://cloud.google.com/vision/docs/batch"
   ]
  },
  {
   "cell_type": "code",
   "execution_count": 4,
   "metadata": {},
   "outputs": [],
   "source": [
    "from google.cloud import vision_v1\n",
    "from google.cloud.vision_v1 import enums\n",
    "\n",
    "\n",
    "def sample_async_batch_annotate_images(\n",
    "    input_image_uri=\"gs://cloud-samples-data/vision/label/wakeupcat.jpg\",\n",
    "    output_uri=\"gs://mydatafiles/03_output/\",\n",
    "):\n",
    "    \"\"\"Perform async batch image annotation.\"\"\"\n",
    "    client = vision_v1.ImageAnnotatorClient()\n",
    "\n",
    "    source = {\"image_uri\": input_image_uri}\n",
    "    image = {\"source\": source}\n",
    "    features = [\n",
    "        {\"type\": enums.Feature.Type.LABEL_DETECTION},\n",
    "        {\"type\": enums.Feature.Type.IMAGE_PROPERTIES},\n",
    "    ]\n",
    "\n",
    "    # Each requests element corresponds to a single image.  To annotate more\n",
    "    # images, create a request element for each image and add it to\n",
    "    # the array of requests\n",
    "    requests = [{\"image\": image, \"features\": features}]\n",
    "    gcs_destination = {\"uri\": output_uri}\n",
    "\n",
    "    # The max number of responses to output in each JSON file\n",
    "    batch_size = 2\n",
    "    output_config = {\"gcs_destination\": gcs_destination,\n",
    "                     \"batch_size\": batch_size}\n",
    "\n",
    "    operation = client.async_batch_annotate_images(requests, output_config)\n",
    "\n",
    "    print(\"Waiting for operation to complete...\")\n",
    "    response = operation.result(90)\n",
    "\n",
    "    # The output is written to GCS with the provided output_uri as prefix\n",
    "    gcs_output_uri = response.output_config.gcs_destination.uri\n",
    "    print(\"Output written to GCS with prefix: {}\".format(gcs_output_uri))\n"
   ]
  },
  {
   "cell_type": "code",
   "execution_count": 5,
   "metadata": {},
   "outputs": [
    {
     "name": "stdout",
     "output_type": "stream",
     "text": [
      "Waiting for operation to complete...\n",
      "Output written to GCS with prefix: gs://mydatafiles/03_output/\n"
     ]
    }
   ],
   "source": [
    "sample_async_batch_annotate_images()"
   ]
  },
  {
   "cell_type": "code",
   "execution_count": null,
   "metadata": {},
   "outputs": [],
   "source": []
  }
 ],
 "metadata": {
  "kernelspec": {
   "display_name": "Python 3",
   "language": "python",
   "name": "python3"
  },
  "language_info": {
   "codemirror_mode": {
    "name": "ipython",
    "version": 3
   },
   "file_extension": ".py",
   "mimetype": "text/x-python",
   "name": "python",
   "nbconvert_exporter": "python",
   "pygments_lexer": "ipython3",
   "version": "3.7.3"
  }
 },
 "nbformat": 4,
 "nbformat_minor": 4
}
