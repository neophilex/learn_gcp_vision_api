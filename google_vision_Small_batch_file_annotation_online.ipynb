{
 "cells": [
  {
   "cell_type": "markdown",
   "metadata": {},
   "source": [
    "https://cloud.google.com/vision/docs/file-small-batch"
   ]
  },
  {
   "cell_type": "code",
   "execution_count": null,
   "metadata": {},
   "outputs": [],
   "source": [
    "import io\n",
    "\n",
    "from google.cloud import vision_v1\n",
    "from google.cloud.vision_v1 import enums\n",
    "\n",
    "\n",
    "def sample_batch_annotate_files(file_path=\"path/to/your/document.pdf\"):\n",
    "    \"\"\"Perform batch file annotation.\"\"\"\n",
    "    client = vision_v1.ImageAnnotatorClient()\n",
    "\n",
    "    # Supported mime_type: application/pdf, image/tiff, image/gif\n",
    "    mime_type = \"application/pdf\"\n",
    "    with io.open(file_path, \"rb\") as f:\n",
    "        content = f.read()\n",
    "    input_config = {\"mime_type\": mime_type, \"content\": content}\n",
    "    features = [{\"type\": enums.Feature.Type.DOCUMENT_TEXT_DETECTION}]\n",
    "\n",
    "    # The service can process up to 5 pages per document file. Here we specify\n",
    "    # the first, second, and last page of the document to be processed.\n",
    "    pages = [1, 2, -1]\n",
    "    requests = [{\"input_config\": input_config, \"features\": features, \"pages\": pages}]\n",
    "\n",
    "    response = client.batch_annotate_files(requests)\n",
    "    for image_response in response.responses[0].responses:\n",
    "        print(u\"Full text: {}\".format(image_response.full_text_annotation.text))\n",
    "        for page in image_response.full_text_annotation.pages:\n",
    "            for block in page.blocks:\n",
    "                print(u\"\\nBlock confidence: {}\".format(block.confidence))\n",
    "                for par in block.paragraphs:\n",
    "                    print(u\"\\tParagraph confidence: {}\".format(par.confidence))\n",
    "                    for word in par.words:\n",
    "                        print(u\"\\t\\tWord confidence: {}\".format(word.confidence))\n",
    "                        for symbol in word.symbols:\n",
    "                            print(\n",
    "                                u\"\\t\\t\\tSymbol: {}, (confidence: {})\".format(\n",
    "                                    symbol.text, symbol.confidence\n",
    "                                )\n",
    "                            )\n"
   ]
  },
  {
   "cell_type": "code",
   "execution_count": null,
   "metadata": {},
   "outputs": [],
   "source": [
    "from google.cloud import vision_v1\n",
    "from google.cloud.vision_v1 import enums\n",
    "\n",
    "\n",
    "def sample_batch_annotate_files(\n",
    "    storage_uri=\"gs://cloud-samples-data/vision/document_understanding/kafka.pdf\",\n",
    "):\n",
    "    \"\"\"Perform batch file annotation.\"\"\"\n",
    "    mime_type = \"application/pdf\"\n",
    "\n",
    "    client = vision_v1.ImageAnnotatorClient()\n",
    "\n",
    "    gcs_source = {\"uri\": storage_uri}\n",
    "    input_config = {\"gcs_source\": gcs_source, \"mime_type\": mime_type}\n",
    "    features = [{\"type\": enums.Feature.Type.DOCUMENT_TEXT_DETECTION}]\n",
    "\n",
    "    # The service can process up to 5 pages per document file.\n",
    "    # Here we specify the first, second, and last page of the document to be\n",
    "    # processed.\n",
    "    pages = [1, 2, -1]\n",
    "    requests = [{\"input_config\": input_config, \"features\": features, \"pages\": pages}]\n",
    "\n",
    "    response = client.batch_annotate_files(requests)\n",
    "    for image_response in response.responses[0].responses:\n",
    "        print(u\"Full text: {}\".format(image_response.full_text_annotation.text))\n",
    "        for page in image_response.full_text_annotation.pages:\n",
    "            for block in page.blocks:\n",
    "                print(u\"\\nBlock confidence: {}\".format(block.confidence))\n",
    "                for par in block.paragraphs:\n",
    "                    print(u\"\\tParagraph confidence: {}\".format(par.confidence))\n",
    "                    for word in par.words:\n",
    "                        print(u\"\\t\\tWord confidence: {}\".format(word.confidence))\n",
    "                        for symbol in word.symbols:\n",
    "                            print(\n",
    "                                u\"\\t\\t\\tSymbol: {}, (confidence: {})\".format(\n",
    "                                    symbol.text, symbol.confidence\n",
    "                                )\n",
    "                            )\n"
   ]
  },
  {
   "cell_type": "code",
   "execution_count": null,
   "metadata": {},
   "outputs": [],
   "source": [
    "sample_batch_annotate_files()"
   ]
  },
  {
   "cell_type": "code",
   "execution_count": null,
   "metadata": {},
   "outputs": [],
   "source": []
  }
 ],
 "metadata": {
  "kernelspec": {
   "display_name": "Python 3",
   "language": "python",
   "name": "python3"
  },
  "language_info": {
   "codemirror_mode": {
    "name": "ipython",
    "version": 3
   },
   "file_extension": ".py",
   "mimetype": "text/x-python",
   "name": "python",
   "nbconvert_exporter": "python",
   "pygments_lexer": "ipython3",
   "version": "3.7.3"
  }
 },
 "nbformat": 4,
 "nbformat_minor": 4
}
