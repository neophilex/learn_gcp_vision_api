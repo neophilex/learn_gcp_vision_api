{
 "cells": [
  {
   "cell_type": "code",
   "execution_count": 1,
   "metadata": {},
   "outputs": [],
   "source": [
    "def detect_safe_search(path):\n",
    "    \"\"\"Detects unsafe features in the file.\"\"\"\n",
    "    from google.cloud import vision\n",
    "    import io\n",
    "    client = vision.ImageAnnotatorClient()\n",
    "\n",
    "    with io.open(path, 'rb') as image_file:\n",
    "        content = image_file.read()\n",
    "\n",
    "    image = vision.types.Image(content=content)\n",
    "\n",
    "    response = client.safe_search_detection(image=image)\n",
    "    safe = response.safe_search_annotation\n",
    "\n",
    "    # Names of likelihood from google.cloud.vision.enums\n",
    "    likelihood_name = ('UNKNOWN', 'VERY_UNLIKELY', 'UNLIKELY', 'POSSIBLE',\n",
    "                       'LIKELY', 'VERY_LIKELY')\n",
    "    print('Safe search:')\n",
    "\n",
    "    print('adult: {}'.format(likelihood_name[safe.adult]))\n",
    "    print('medical: {}'.format(likelihood_name[safe.medical]))\n",
    "    print('spoofed: {}'.format(likelihood_name[safe.spoof]))\n",
    "    print('violence: {}'.format(likelihood_name[safe.violence]))\n",
    "    print('racy: {}'.format(likelihood_name[safe.racy]))\n",
    "\n",
    "    if response.error.message:\n",
    "        raise Exception(\n",
    "            '{}\\nFor more info on error messages, check: '\n",
    "            'https://cloud.google.com/apis/design/errors'.format(\n",
    "                response.error.message))"
   ]
  },
  {
   "cell_type": "code",
   "execution_count": 2,
   "metadata": {},
   "outputs": [],
   "source": [
    "def detect_safe_search_uri(uri):\n",
    "    \"\"\"Detects unsafe features in the file located in Google Cloud Storage or\n",
    "    on the Web.\"\"\"\n",
    "    from google.cloud import vision\n",
    "    client = vision.ImageAnnotatorClient()\n",
    "    image = vision.types.Image()\n",
    "    image.source.image_uri = uri\n",
    "\n",
    "    response = client.safe_search_detection(image=image)\n",
    "    safe = response.safe_search_annotation\n",
    "\n",
    "    # Names of likelihood from google.cloud.vision.enums\n",
    "    likelihood_name = ('UNKNOWN', 'VERY_UNLIKELY', 'UNLIKELY', 'POSSIBLE',\n",
    "                       'LIKELY', 'VERY_LIKELY')\n",
    "    print('Safe search:')\n",
    "\n",
    "    print('adult: {}'.format(likelihood_name[safe.adult]))\n",
    "    print('medical: {}'.format(likelihood_name[safe.medical]))\n",
    "    print('spoofed: {}'.format(likelihood_name[safe.spoof]))\n",
    "    print('violence: {}'.format(likelihood_name[safe.violence]))\n",
    "    print('racy: {}'.format(likelihood_name[safe.racy]))\n",
    "\n",
    "    if response.error.message:\n",
    "        raise Exception(\n",
    "            '{}\\nFor more info on error messages, check: '\n",
    "            'https://cloud.google.com/apis/design/errors'.format(\n",
    "                response.error.message))"
   ]
  },
  {
   "cell_type": "markdown",
   "metadata": {},
   "source": [
    "## WARNING -- NUDE PICTURE"
   ]
  },
  {
   "cell_type": "code",
   "execution_count": 3,
   "metadata": {},
   "outputs": [
    {
     "name": "stdout",
     "output_type": "stream",
     "text": [
      "Safe search:\n",
      "adult: VERY_LIKELY\n",
      "medical: POSSIBLE\n",
      "spoofed: VERY_UNLIKELY\n",
      "violence: VERY_UNLIKELY\n",
      "racy: VERY_LIKELY\n"
     ]
    }
   ],
   "source": [
    "detect_safe_search_uri('https://cdn.desiredbabes.com/sr/thumbs/J/35679.jpg')"
   ]
  },
  {
   "cell_type": "code",
   "execution_count": null,
   "metadata": {},
   "outputs": [],
   "source": []
  }
 ],
 "metadata": {
  "kernelspec": {
   "display_name": "Python 3",
   "language": "python",
   "name": "python3"
  },
  "language_info": {
   "codemirror_mode": {
    "name": "ipython",
    "version": 3
   },
   "file_extension": ".py",
   "mimetype": "text/x-python",
   "name": "python",
   "nbconvert_exporter": "python",
   "pygments_lexer": "ipython3",
   "version": "3.7.3"
  }
 },
 "nbformat": 4,
 "nbformat_minor": 4
}
