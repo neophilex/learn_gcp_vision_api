{
 "cells": [
  {
   "cell_type": "code",
   "execution_count": 1,
   "metadata": {},
   "outputs": [],
   "source": [
    "import os\n",
    "os.environ['GOOGLE_APPLICATION_CREDENTIALS']='/home/neophilex/.ssh/sa-neophilex-alpha-owner.json'"
   ]
  },
  {
   "cell_type": "code",
   "execution_count": 5,
   "metadata": {},
   "outputs": [],
   "source": [
    "def localize_objects(path):\n",
    "    \"\"\"Localize objects in the local image.\n",
    "\n",
    "    Args:\n",
    "    path: The path to the local file.\n",
    "    \"\"\"\n",
    "    from google.cloud import vision\n",
    "    client = vision.ImageAnnotatorClient()\n",
    "\n",
    "    with open(path, 'rb') as image_file:\n",
    "        content = image_file.read()\n",
    "    image = vision.types.Image(content=content)\n",
    "\n",
    "    objects = client.object_localization(\n",
    "        image=image).localized_object_annotations\n",
    "\n",
    "    print('Number of objects found: {}'.format(len(objects)))\n",
    "    for object_ in objects:\n",
    "        print('\\n{} (confidence: {})'.format(object_.name, object_.score))\n",
    "        print('Normalized bounding polygon vertices: ')\n",
    "        for vertex in object_.bounding_poly.normalized_vertices:\n",
    "            print(' - ({}, {})'.format(vertex.x, vertex.y))"
   ]
  },
  {
   "cell_type": "code",
   "execution_count": 6,
   "metadata": {},
   "outputs": [],
   "source": [
    "def localize_objects_uri(uri):\n",
    "    \"\"\"Localize objects in the image on Google Cloud Storage\n",
    "\n",
    "    Args:\n",
    "    uri: The path to the file in Google Cloud Storage (gs://...)\n",
    "    \"\"\"\n",
    "    from google.cloud import vision\n",
    "    client = vision.ImageAnnotatorClient()\n",
    "\n",
    "    image = vision.types.Image()\n",
    "    image.source.image_uri = uri\n",
    "\n",
    "    objects = client.object_localization(\n",
    "        image=image).localized_object_annotations\n",
    "\n",
    "    print('Number of objects found: {}'.format(len(objects)))\n",
    "    for object_ in objects:\n",
    "        print('\\n{} (confidence: {})'.format(object_.name, object_.score))\n",
    "        print('Normalized bounding polygon vertices: ')\n",
    "        for vertex in object_.bounding_poly.normalized_vertices:\n",
    "            print(' - ({}, {})'.format(vertex.x, vertex.y))"
   ]
  },
  {
   "cell_type": "code",
   "execution_count": 7,
   "metadata": {},
   "outputs": [
    {
     "name": "stdout",
     "output_type": "stream",
     "text": [
      "Number of objects found: 4\n",
      "\n",
      "Bicycle wheel (confidence: 0.9425086975097656)\n",
      "Normalized bounding polygon vertices: \n",
      " - (0.31517794728279114, 0.7865116596221924)\n",
      " - (0.4419495761394501, 0.7865116596221924)\n",
      " - (0.4419495761394501, 0.9693962931632996)\n",
      " - (0.31517794728279114, 0.9693962931632996)\n",
      "\n",
      "Bicycle wheel (confidence: 0.9341650009155273)\n",
      "Normalized bounding polygon vertices: \n",
      " - (0.5033941268920898, 0.755299985408783)\n",
      " - (0.6290013790130615, 0.755299985408783)\n",
      " - (0.6290013790130615, 0.9428197741508484)\n",
      " - (0.5033941268920898, 0.9428197741508484)\n",
      "\n",
      "Bicycle (confidence: 0.9013836979866028)\n",
      "Normalized bounding polygon vertices: \n",
      " - (0.3161414563655853, 0.6644622683525085)\n",
      " - (0.6335362195968628, 0.6644622683525085)\n",
      " - (0.6335362195968628, 0.9687421321868896)\n",
      " - (0.3161414563655853, 0.9687421321868896)\n",
      "\n",
      "Picture frame (confidence: 0.7142972350120544)\n",
      "Normalized bounding polygon vertices: \n",
      " - (0.7882673740386963, 0.16615547239780426)\n",
      " - (0.9662207961082458, 0.16615547239780426)\n",
      " - (0.9662207961082458, 0.3177337944507599)\n",
      " - (0.7882673740386963, 0.3177337944507599)\n"
     ]
    }
   ],
   "source": [
    "localize_objects_uri('https://cloud.google.com/vision/docs/images/bicycle_example.png')"
   ]
  },
  {
   "cell_type": "code",
   "execution_count": null,
   "metadata": {},
   "outputs": [],
   "source": []
  }
 ],
 "metadata": {
  "kernelspec": {
   "display_name": "Python 3",
   "language": "python",
   "name": "python3"
  },
  "language_info": {
   "codemirror_mode": {
    "name": "ipython",
    "version": 3
   },
   "file_extension": ".py",
   "mimetype": "text/x-python",
   "name": "python",
   "nbconvert_exporter": "python",
   "pygments_lexer": "ipython3",
   "version": "3.8.5"
  }
 },
 "nbformat": 4,
 "nbformat_minor": 4
}
