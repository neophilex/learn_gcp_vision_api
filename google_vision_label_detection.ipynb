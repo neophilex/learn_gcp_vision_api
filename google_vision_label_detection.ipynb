{
 "cells": [
  {
   "cell_type": "markdown",
   "metadata": {},
   "source": [
    "https://cloud.google.com/vision/docs"
   ]
  },
  {
   "cell_type": "code",
   "execution_count": null,
   "metadata": {},
   "outputs": [],
   "source": [
    "# !export GOOGLE_APPLICATION_CREDENTIALS=\"/home/maswadkar/.ssh/maswadkar-001-google-vision-api.json\"\n",
    "# pip install --upgrade google-cloud-vision"
   ]
  },
  {
   "cell_type": "code",
   "execution_count": null,
   "metadata": {},
   "outputs": [],
   "source": [
    "def get_labels_of_image(image_path):\n",
    "    import io\n",
    "    import os\n",
    "    \n",
    "    # Imports the Google Cloud client library\n",
    "    from google.cloud import vision\n",
    "    from google.cloud.vision import types\n",
    "    \n",
    "    # Instantiates a client\n",
    "    client = vision.ImageAnnotatorClient()\n",
    "    \n",
    "    # The name of the image file to annotate\n",
    "    file_name = os.path.abspath(image_path)\n",
    "    \n",
    "    # Loads the image into memory\n",
    "    with io.open(file_name, 'rb') as image_file:\n",
    "        content = image_file.read()\n",
    "    \n",
    "    image = types.Image(content=content)\n",
    "    \n",
    "    \n",
    "    # Performs label detection on the image file\n",
    "    response = client.label_detection(image=image)\n",
    "    labels = response.label_annotations\n",
    "    \n",
    "    return labels"
   ]
  },
  {
   "cell_type": "code",
   "execution_count": null,
   "metadata": {},
   "outputs": [],
   "source": [
    "labels = get_labels_of_image('01_input/wakeupcat.jpg')"
   ]
  },
  {
   "cell_type": "code",
   "execution_count": null,
   "metadata": {},
   "outputs": [],
   "source": [
    "print('Labels:')\n",
    "for label in labels:\n",
    "    print(label.description,'\\t', label.score)"
   ]
  },
  {
   "cell_type": "code",
   "execution_count": null,
   "metadata": {},
   "outputs": [],
   "source": []
  }
 ],
 "metadata": {
  "kernelspec": {
   "display_name": "Python 3",
   "language": "python",
   "name": "python3"
  },
  "language_info": {
   "codemirror_mode": {
    "name": "ipython",
    "version": 3
   },
   "file_extension": ".py",
   "mimetype": "text/x-python",
   "name": "python",
   "nbconvert_exporter": "python",
   "pygments_lexer": "ipython3",
   "version": "3.7.3"
  }
 },
 "nbformat": 4,
 "nbformat_minor": 4
}
