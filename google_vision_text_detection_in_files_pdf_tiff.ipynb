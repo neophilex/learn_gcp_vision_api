{
 "cells": [
  {
   "cell_type": "markdown",
   "metadata": {},
   "source": [
    "https://cloud.google.com/vision/docs"
   ]
  },
  {
   "cell_type": "code",
   "execution_count": 1,
   "metadata": {},
   "outputs": [],
   "source": [
    "def async_detect_document(gcs_source_uri, gcs_destination_uri):\n",
    "    \"\"\"OCR with PDF/TIFF as source files on GCS\"\"\"\n",
    "    import re\n",
    "    from google.cloud import vision\n",
    "    from google.cloud import storage\n",
    "    from google.protobuf import json_format\n",
    "    # Supported mime_types are: 'application/pdf' and 'image/tiff'\n",
    "    mime_type = 'application/pdf'\n",
    "\n",
    "    # How many pages should be grouped into each json output file.\n",
    "    batch_size = 2\n",
    "\n",
    "    client = vision.ImageAnnotatorClient()\n",
    "\n",
    "    feature = vision.types.Feature(\n",
    "        type=vision.enums.Feature.Type.DOCUMENT_TEXT_DETECTION)\n",
    "\n",
    "    gcs_source = vision.types.GcsSource(uri=gcs_source_uri)\n",
    "    input_config = vision.types.InputConfig(\n",
    "        gcs_source=gcs_source, mime_type=mime_type)\n",
    "\n",
    "    gcs_destination = vision.types.GcsDestination(uri=gcs_destination_uri)\n",
    "    output_config = vision.types.OutputConfig(\n",
    "        gcs_destination=gcs_destination, batch_size=batch_size)\n",
    "\n",
    "    async_request = vision.types.AsyncAnnotateFileRequest(\n",
    "        features=[feature], input_config=input_config,\n",
    "        output_config=output_config)\n",
    "\n",
    "    operation = client.async_batch_annotate_files(\n",
    "        requests=[async_request])\n",
    "\n",
    "    print('Waiting for the operation to finish.')\n",
    "    operation.result(timeout=420)\n",
    "\n",
    "    # Once the request has completed and the output has been\n",
    "    # written to GCS, we can list all the output files.\n",
    "    storage_client = storage.Client()\n",
    "\n",
    "    match = re.match(r'gs://([^/]+)/(.+)', gcs_destination_uri)\n",
    "    bucket_name = match.group(1)\n",
    "    prefix = match.group(2)\n",
    "\n",
    "    bucket = storage_client.get_bucket(bucket_name)\n",
    "\n",
    "    # List objects with the given prefix.\n",
    "    blob_list = list(bucket.list_blobs(prefix=prefix))\n",
    "    print('Output files:')\n",
    "    for blob in blob_list:\n",
    "        print(blob.name)\n",
    "\n",
    "    # Process the first output file from GCS.\n",
    "    # Since we specified batch_size=2, the first response contains\n",
    "    # the first two pages of the input file.\n",
    "    output = blob_list[0]\n",
    "\n",
    "    json_string = output.download_as_string()\n",
    "    response = json_format.Parse(\n",
    "        json_string, vision.types.AnnotateFileResponse())\n",
    "\n",
    "    # The actual response for the first page of the input file.\n",
    "    first_page_response = response.responses[0]\n",
    "    annotation = first_page_response.full_text_annotation\n",
    "\n",
    "    # Here we print the full text from the first page.\n",
    "    # The response contains more information:\n",
    "    # annotation/pages/blocks/paragraphs/words/symbols\n",
    "    # including confidence scores and bounding boxes\n",
    "    print(u'Full text:\\n{}'.format(\n",
    "        annotation.text))"
   ]
  },
  {
   "cell_type": "code",
   "execution_count": null,
   "metadata": {},
   "outputs": [],
   "source": [
    "async_detect_document('gs://mydatafiles/fw8ben.pdf', 'gs://mydatafiles/test.json')"
   ]
  },
  {
   "cell_type": "code",
   "execution_count": 2,
   "metadata": {},
   "outputs": [
    {
     "name": "stdout",
     "output_type": "stream",
     "text": [
      "Waiting for the operation to finish.\n",
      "Output files:\n",
      "01_input/Primarschule.jsonoutput-1-to-2.json\n",
      "01_input/Primarschule.jsonoutput-3-to-4.json\n",
      "Full text:\n",
      "stadt\n",
      "<' widenswil\n",
      "Primarschule\n",
      "lernen begreifen erfahren\n",
      "P.P. A CH-8820 Wädenswil Post CH AG\n",
      "Familie\n",
      "Vivek Maswadkar und\n",
      "Aruna Krishnamurthy\n",
      "General-Werdmüller-Strasse 14\n",
      "8804 Au ZH\n",
      "Schulverwaltung\n",
      "Schönenbergstrasse 4a\n",
      "Postfach\n",
      "8820 Wädenswil\n",
      "Direkt 044 789 74 45\n",
      "Telefon 044 789 74 40\n",
      "daniel.spiess@waedenswil.ch\n",
      "www.pswaedenswil.ch\n",
      "Wädenswil, 6. August 2020\n",
      "08.15 dsp\n",
      "Bestätigung für die ausserfamiliäre Betreuung im Schuljahr 2020/21\n",
      "Sehr geehrte Frau Krishnamurthy, sehr geehrter Herr Maswadkar\n",
      "Gerne bestätigen wir Ihnen den Aufenthalt Ihres Kindes / Ihrer Kinder im Schülerclub /\n",
      "Mittagstisch im Schuljahr 2020/21 wie folgt:\n",
      "Name\n",
      "Modul\n",
      "Eintritt\n",
      "Wochentage Tarif / Woche Standort\n",
      "Aaryan\n",
      "Aaryan\n",
      "C Nachmittagsclub neu\n",
      "Mahlzeiten\n",
      "18.08.2020\n",
      "18.08.2020\n",
      "Mo Di Mi Do\n",
      "Mo Di Do\n",
      "212.00\n",
      "48.00\n",
      "Steinacher 1\n",
      "Steinacher 1\n",
      "Bei der Erstanmeldung wird eine Einschreibegebühr und bei einer Änderung der Module und / oder Tage\n",
      "während des Schuljahres eine Bearbeitungsgebühr von jeweils CHF 30.00 in Rechnung gestellt.\n",
      "Freundlich grüsst\n",
      "Stadt Wädenswil\n",
      "Daniel Spiess\n",
      "Sachbearbeiter\n",
      "bilden und forschen\n",
      "wädenswil\n",
      "\n"
     ]
    }
   ],
   "source": [
    "async_detect_document('gs://mydatafiles/01_input/Primarschule.pdf','gs://mydatafiles/01_input/Primarschule.json')"
   ]
  },
  {
   "cell_type": "code",
   "execution_count": 4,
   "metadata": {},
   "outputs": [],
   "source": [
    "text=\"stadt\\n\\u003c' widenswil\\nPrimarschule\\nlernen begreifen erfahren\\nP.P. A CH-8820 Wädenswil Post CH AG\\nFamilie\\nVivek Maswadkar und\\nAruna Krishnamurthy\\nGeneral-Werdmüller-Strasse 14\\n8804 Au ZH\\nSchulverwaltung\\nSchönenbergstrasse 4a\\nPostfach\\n8820 Wädenswil\\nDirekt 044 789 74 45\\nTelefon 044 789 74 40\\ndaniel.spiess@waedenswil.ch\\nwww.pswaedenswil.ch\\nWädenswil, 6. August 2020\\n08.15 dsp\\nBestätigung für die ausserfamiliäre Betreuung im Schuljahr 2020/21\\nSehr geehrte Frau Krishnamurthy, sehr geehrter Herr Maswadkar\\nGerne bestätigen wir Ihnen den Aufenthalt Ihres Kindes / Ihrer Kinder im Schülerclub /\\nMittagstisch im Schuljahr 2020/21 wie folgt:\\nName\\nModul\\nEintritt\\nWochentage Tarif / Woche Standort\\nAaryan\\nAaryan\\nC Nachmittagsclub neu\\nMahlzeiten\\n18.08.2020\\n18.08.2020\\nMo Di Mi Do\\nMo Di Do\\n212.00\\n48.00\\nSteinacher 1\\nSteinacher 1\\nBei der Erstanmeldung wird eine Einschreibegebühr und bei einer Änderung der Module und / oder Tage\\nwährend des Schuljahres eine Bearbeitungsgebühr von jeweils CHF 30.00 in Rechnung gestellt.\\nFreundlich grüsst\\nStadt Wädenswil\\nDaniel Spiess\\nSachbearbeiter\\nbilden und forschen\\nwädenswil\\n\""
   ]
  },
  {
   "cell_type": "code",
   "execution_count": 5,
   "metadata": {},
   "outputs": [
    {
     "name": "stdout",
     "output_type": "stream",
     "text": [
      "stadt\n",
      "<' widenswil\n",
      "Primarschule\n",
      "lernen begreifen erfahren\n",
      "P.P. A CH-8820 Wädenswil Post CH AG\n",
      "Familie\n",
      "Vivek Maswadkar und\n",
      "Aruna Krishnamurthy\n",
      "General-Werdmüller-Strasse 14\n",
      "8804 Au ZH\n",
      "Schulverwaltung\n",
      "Schönenbergstrasse 4a\n",
      "Postfach\n",
      "8820 Wädenswil\n",
      "Direkt 044 789 74 45\n",
      "Telefon 044 789 74 40\n",
      "daniel.spiess@waedenswil.ch\n",
      "www.pswaedenswil.ch\n",
      "Wädenswil, 6. August 2020\n",
      "08.15 dsp\n",
      "Bestätigung für die ausserfamiliäre Betreuung im Schuljahr 2020/21\n",
      "Sehr geehrte Frau Krishnamurthy, sehr geehrter Herr Maswadkar\n",
      "Gerne bestätigen wir Ihnen den Aufenthalt Ihres Kindes / Ihrer Kinder im Schülerclub /\n",
      "Mittagstisch im Schuljahr 2020/21 wie folgt:\n",
      "Name\n",
      "Modul\n",
      "Eintritt\n",
      "Wochentage Tarif / Woche Standort\n",
      "Aaryan\n",
      "Aaryan\n",
      "C Nachmittagsclub neu\n",
      "Mahlzeiten\n",
      "18.08.2020\n",
      "18.08.2020\n",
      "Mo Di Mi Do\n",
      "Mo Di Do\n",
      "212.00\n",
      "48.00\n",
      "Steinacher 1\n",
      "Steinacher 1\n",
      "Bei der Erstanmeldung wird eine Einschreibegebühr und bei einer Änderung der Module und / oder Tage\n",
      "während des Schuljahres eine Bearbeitungsgebühr von jeweils CHF 30.00 in Rechnung gestellt.\n",
      "Freundlich grüsst\n",
      "Stadt Wädenswil\n",
      "Daniel Spiess\n",
      "Sachbearbeiter\n",
      "bilden und forschen\n",
      "wädenswil\n",
      "\n"
     ]
    }
   ],
   "source": [
    "print(text)"
   ]
  },
  {
   "cell_type": "code",
   "execution_count": 10,
   "metadata": {},
   "outputs": [],
   "source": [
    "text=\"Packliste für den Schülerclub\\n• Stundenplan\\n• Zahnbürste\\n• Rutschfeste Hausschuhe\\nWettergerechte Kleidung\\n• Ersatzkleidung\\n• Evtl. „Übergangsobjekt\\\" für jüngere Kinder (.Kuscheltier“ o. ähnliches.)\\nIm Frühling/Sommer ausserdem\\n• Sonnencreme\\n• Sonnenhut\\n• Nach Bedarf Badesachen\\nTipp: Orientierungshilfe für das Kind zu Beginn des neuen Schuljahres\\nAnhänger oder ähnlicher Gegenstand an den Tagen mitgeben, an denen das Kind den Schülerclub besucht\\n(Schlüsselanhänger, Symbol etc.)\\n\""
   ]
  },
  {
   "cell_type": "code",
   "execution_count": 11,
   "metadata": {},
   "outputs": [
    {
     "name": "stdout",
     "output_type": "stream",
     "text": [
      "Packliste für den Schülerclub\n",
      "• Stundenplan\n",
      "• Zahnbürste\n",
      "• Rutschfeste Hausschuhe\n",
      "Wettergerechte Kleidung\n",
      "• Ersatzkleidung\n",
      "• Evtl. „Übergangsobjekt\" für jüngere Kinder (.Kuscheltier“ o. ähnliches.)\n",
      "Im Frühling/Sommer ausserdem\n",
      "• Sonnencreme\n",
      "• Sonnenhut\n",
      "• Nach Bedarf Badesachen\n",
      "Tipp: Orientierungshilfe für das Kind zu Beginn des neuen Schuljahres\n",
      "Anhänger oder ähnlicher Gegenstand an den Tagen mitgeben, an denen das Kind den Schülerclub besucht\n",
      "(Schlüsselanhänger, Symbol etc.)\n",
      "\n"
     ]
    }
   ],
   "source": [
    "print(text)"
   ]
  },
  {
   "cell_type": "code",
   "execution_count": null,
   "metadata": {},
   "outputs": [],
   "source": []
  }
 ],
 "metadata": {
  "kernelspec": {
   "display_name": "Python 3",
   "language": "python",
   "name": "python3"
  },
  "language_info": {
   "codemirror_mode": {
    "name": "ipython",
    "version": 3
   },
   "file_extension": ".py",
   "mimetype": "text/x-python",
   "name": "python",
   "nbconvert_exporter": "python",
   "pygments_lexer": "ipython3",
   "version": "3.7.3"
  }
 },
 "nbformat": 4,
 "nbformat_minor": 4
}
